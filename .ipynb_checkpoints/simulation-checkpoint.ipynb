{
 "cells": [
  {
   "cell_type": "code",
   "execution_count": 1,
   "metadata": {},
   "outputs": [],
   "source": [
    "from game_setup import *"
   ]
  },
  {
   "cell_type": "code",
   "execution_count": 2,
   "metadata": {},
   "outputs": [],
   "source": [
    "from simulator import * "
   ]
  },
  {
   "cell_type": "code",
   "execution_count": 2,
   "metadata": {},
   "outputs": [],
   "source": [
    "player1 = Player(\"Yoav\")\n",
    "player2 = Player(\"Rani\")\n",
    "player3 = Player(\"Opher\")\n",
    "\n",
    "simulation = simulation([player1, player2, player3], \n",
    "            ['chance_cards.csv', 'community_chest_cards.csv'], 'squares.csv')"
   ]
  },
  {
   "cell_type": "code",
   "execution_count": 3,
   "metadata": {},
   "outputs": [
    {
     "data": {
      "text/plain": [
       "['New game starting',\n",
       " 'Yoav joined and is at 0',\n",
       " 'Rani joined and is at 0',\n",
       " 'Opher joined and is at 0',\n",
       " 'Order of play was determined:',\n",
       " 'Rani',\n",
       " 'Opher',\n",
       " 'Yoav',\n",
       " 'chance_cards.csv shuffled ',\n",
       " 'community_chest_cards.csv shuffled ']"
      ]
     },
     "execution_count": 3,
     "metadata": {},
     "output_type": "execute_result"
    }
   ],
   "source": [
    "game.log"
   ]
  },
  {
   "cell_type": "code",
   "execution_count": 4,
   "metadata": {},
   "outputs": [],
   "source": [
    "game.run_game(300)\n",
    "#game.log"
   ]
  },
  {
   "cell_type": "code",
   "execution_count": null,
   "metadata": {},
   "outputs": [],
   "source": []
  },
  {
   "cell_type": "code",
   "execution_count": null,
   "metadata": {},
   "outputs": [],
   "source": []
  },
  {
   "cell_type": "code",
   "execution_count": 5,
   "metadata": {},
   "outputs": [],
   "source": [
    "game.run_game(10000)"
   ]
  },
  {
   "cell_type": "code",
   "execution_count": 6,
   "metadata": {},
   "outputs": [
    {
     "data": {
      "text/plain": [
       "<matplotlib.axes._subplots.AxesSubplot at 0x7fb4f0bbf3c8>"
      ]
     },
     "execution_count": 6,
     "metadata": {},
     "output_type": "execute_result"
    },
    {
     "data": {
      "image/png": "[encoded data removed]",
      "text/plain": [
       "<Figure size 432x288 with 1 Axes>"
      ]
     },
     "metadata": {},
     "output_type": "display_data"
    }
   ],
   "source": [
    "game.extract_results()\n",
    "game.results_plot"
   ]
  },
  {
   "cell_type": "code",
   "execution_count": 12,
   "metadata": {},
   "outputs": [
    {
     "data": {
      "text/plain": [
       "<matplotlib.axes._subplots.AxesSubplot at 0x7fe43810c9b0>"
      ]
     },
     "execution_count": 12,
     "metadata": {},
     "output_type": "execute_result"
    },
    {
     "data": {
      "image/png": "[encoded data removed]",
      "text/plain": [
       "<Figure size 432x288 with 1 Axes>"
      ]
     },
     "metadata": {},
     "output_type": "display_data"
    }
   ],
   "source": [
    "game.results['share_of_visits'].plot(kind='bar', x=game.results['type'])"
   ]
  },
  {
   "cell_type": "code",
   "execution_count": 6,
   "metadata": {},
   "outputs": [
    {
     "data": {
      "text/html": [
       "<div>\n",
       "<style scoped>\n",
       "    .dataframe tbody tr th:only-of-type {\n",
       "        vertical-align: middle;\n",
       "    }\n",
       "\n",
       "    .dataframe tbody tr th {\n",
       "        vertical-align: top;\n",
       "    }\n",
       "\n",
       "    .dataframe thead th {\n",
       "        text-align: right;\n",
       "    }\n",
       "</style>\n",
       "<table border=\"1\" class=\"dataframe\">\n",
       "  <thead>\n",
       "    <tr style=\"text-align: right;\">\n",
       "      <th></th>\n",
       "      <th>purchasable</th>\n",
       "      <th>type</th>\n",
       "      <th>sequence</th>\n",
       "      <th>name</th>\n",
       "      <th>visits_count</th>\n",
       "      <th>share_of_visits</th>\n",
       "    </tr>\n",
       "  </thead>\n",
       "  <tbody>\n",
       "    <tr>\n",
       "      <th>0</th>\n",
       "      <td>False</td>\n",
       "      <td>Go</td>\n",
       "      <td>Go</td>\n",
       "      <td>Go</td>\n",
       "      <td>455</td>\n",
       "      <td>0.022749</td>\n",
       "    </tr>\n",
       "    <tr>\n",
       "      <th>1</th>\n",
       "      <td>True</td>\n",
       "      <td>Property</td>\n",
       "      <td>Purple</td>\n",
       "      <td>Purple1</td>\n",
       "      <td>453</td>\n",
       "      <td>0.022649</td>\n",
       "    </tr>\n",
       "    <tr>\n",
       "      <th>2</th>\n",
       "      <td>False</td>\n",
       "      <td>Card</td>\n",
       "      <td>Community Chest</td>\n",
       "      <td>Community Chest</td>\n",
       "      <td>495</td>\n",
       "      <td>0.024749</td>\n",
       "    </tr>\n",
       "    <tr>\n",
       "      <th>3</th>\n",
       "      <td>True</td>\n",
       "      <td>Property</td>\n",
       "      <td>Purple</td>\n",
       "      <td>Purple2</td>\n",
       "      <td>480</td>\n",
       "      <td>0.023999</td>\n",
       "    </tr>\n",
       "    <tr>\n",
       "      <th>4</th>\n",
       "      <td>False</td>\n",
       "      <td>Tax</td>\n",
       "      <td>City Tax</td>\n",
       "      <td>City tax</td>\n",
       "      <td>536</td>\n",
       "      <td>0.026799</td>\n",
       "    </tr>\n",
       "    <tr>\n",
       "      <th>5</th>\n",
       "      <td>True</td>\n",
       "      <td>Train</td>\n",
       "      <td>Train</td>\n",
       "      <td>Train1</td>\n",
       "      <td>507</td>\n",
       "      <td>0.025349</td>\n",
       "    </tr>\n",
       "    <tr>\n",
       "      <th>6</th>\n",
       "      <td>True</td>\n",
       "      <td>Property</td>\n",
       "      <td>LightBlue</td>\n",
       "      <td>LightBlue1</td>\n",
       "      <td>508</td>\n",
       "      <td>0.025399</td>\n",
       "    </tr>\n",
       "    <tr>\n",
       "      <th>7</th>\n",
       "      <td>False</td>\n",
       "      <td>Card</td>\n",
       "      <td>Chance</td>\n",
       "      <td>Chance</td>\n",
       "      <td>470</td>\n",
       "      <td>0.023499</td>\n",
       "    </tr>\n",
       "    <tr>\n",
       "      <th>8</th>\n",
       "      <td>True</td>\n",
       "      <td>Property</td>\n",
       "      <td>LightBlue</td>\n",
       "      <td>LightBlue2</td>\n",
       "      <td>471</td>\n",
       "      <td>0.023549</td>\n",
       "    </tr>\n",
       "    <tr>\n",
       "      <th>9</th>\n",
       "      <td>True</td>\n",
       "      <td>Property</td>\n",
       "      <td>LightBlue</td>\n",
       "      <td>LightBlue3</td>\n",
       "      <td>456</td>\n",
       "      <td>0.022799</td>\n",
       "    </tr>\n",
       "    <tr>\n",
       "      <th>10</th>\n",
       "      <td>False</td>\n",
       "      <td>Jail</td>\n",
       "      <td>Jail</td>\n",
       "      <td>Jail</td>\n",
       "      <td>499</td>\n",
       "      <td>0.024949</td>\n",
       "    </tr>\n",
       "    <tr>\n",
       "      <th>11</th>\n",
       "      <td>True</td>\n",
       "      <td>Property</td>\n",
       "      <td>Pink</td>\n",
       "      <td>Pink1</td>\n",
       "      <td>481</td>\n",
       "      <td>0.024049</td>\n",
       "    </tr>\n",
       "    <tr>\n",
       "      <th>12</th>\n",
       "      <td>True</td>\n",
       "      <td>Utility</td>\n",
       "      <td>Utility</td>\n",
       "      <td>Utility1</td>\n",
       "      <td>523</td>\n",
       "      <td>0.026149</td>\n",
       "    </tr>\n",
       "    <tr>\n",
       "      <th>13</th>\n",
       "      <td>True</td>\n",
       "      <td>Property</td>\n",
       "      <td>Pink</td>\n",
       "      <td>Pink2</td>\n",
       "      <td>482</td>\n",
       "      <td>0.024099</td>\n",
       "    </tr>\n",
       "    <tr>\n",
       "      <th>14</th>\n",
       "      <td>True</td>\n",
       "      <td>Property</td>\n",
       "      <td>Pink</td>\n",
       "      <td>Pink3</td>\n",
       "      <td>514</td>\n",
       "      <td>0.025699</td>\n",
       "    </tr>\n",
       "    <tr>\n",
       "      <th>15</th>\n",
       "      <td>True</td>\n",
       "      <td>Train</td>\n",
       "      <td>Train</td>\n",
       "      <td>Train2</td>\n",
       "      <td>569</td>\n",
       "      <td>0.028449</td>\n",
       "    </tr>\n",
       "    <tr>\n",
       "      <th>16</th>\n",
       "      <td>True</td>\n",
       "      <td>Property</td>\n",
       "      <td>Orange</td>\n",
       "      <td>Orange1</td>\n",
       "      <td>510</td>\n",
       "      <td>0.025499</td>\n",
       "    </tr>\n",
       "    <tr>\n",
       "      <th>17</th>\n",
       "      <td>False</td>\n",
       "      <td>Card</td>\n",
       "      <td>Community Chest</td>\n",
       "      <td>Community Chest</td>\n",
       "      <td>588</td>\n",
       "      <td>0.029399</td>\n",
       "    </tr>\n",
       "    <tr>\n",
       "      <th>18</th>\n",
       "      <td>True</td>\n",
       "      <td>Property</td>\n",
       "      <td>Orange</td>\n",
       "      <td>Orange2</td>\n",
       "      <td>536</td>\n",
       "      <td>0.026799</td>\n",
       "    </tr>\n",
       "    <tr>\n",
       "      <th>19</th>\n",
       "      <td>True</td>\n",
       "      <td>Property</td>\n",
       "      <td>Orange</td>\n",
       "      <td>Orange3</td>\n",
       "      <td>497</td>\n",
       "      <td>0.024849</td>\n",
       "    </tr>\n",
       "    <tr>\n",
       "      <th>20</th>\n",
       "      <td>False</td>\n",
       "      <td>Free Parking</td>\n",
       "      <td>Free Parking</td>\n",
       "      <td>Free Parking</td>\n",
       "      <td>542</td>\n",
       "      <td>0.027099</td>\n",
       "    </tr>\n",
       "    <tr>\n",
       "      <th>21</th>\n",
       "      <td>True</td>\n",
       "      <td>Property</td>\n",
       "      <td>Red</td>\n",
       "      <td>Red1</td>\n",
       "      <td>531</td>\n",
       "      <td>0.026549</td>\n",
       "    </tr>\n",
       "    <tr>\n",
       "      <th>22</th>\n",
       "      <td>False</td>\n",
       "      <td>Card</td>\n",
       "      <td>Chance</td>\n",
       "      <td>Chance</td>\n",
       "      <td>503</td>\n",
       "      <td>0.025149</td>\n",
       "    </tr>\n",
       "    <tr>\n",
       "      <th>23</th>\n",
       "      <td>True</td>\n",
       "      <td>Property</td>\n",
       "      <td>Red</td>\n",
       "      <td>Red2</td>\n",
       "      <td>449</td>\n",
       "      <td>0.022449</td>\n",
       "    </tr>\n",
       "    <tr>\n",
       "      <th>24</th>\n",
       "      <td>True</td>\n",
       "      <td>Property</td>\n",
       "      <td>Red</td>\n",
       "      <td>Red3</td>\n",
       "      <td>498</td>\n",
       "      <td>0.024899</td>\n",
       "    </tr>\n",
       "    <tr>\n",
       "      <th>25</th>\n",
       "      <td>True</td>\n",
       "      <td>Train</td>\n",
       "      <td>Train</td>\n",
       "      <td>Train3</td>\n",
       "      <td>461</td>\n",
       "      <td>0.023049</td>\n",
       "    </tr>\n",
       "    <tr>\n",
       "      <th>26</th>\n",
       "      <td>True</td>\n",
       "      <td>Property</td>\n",
       "      <td>Yellow</td>\n",
       "      <td>Yellow1</td>\n",
       "      <td>481</td>\n",
       "      <td>0.024049</td>\n",
       "    </tr>\n",
       "    <tr>\n",
       "      <th>27</th>\n",
       "      <td>True</td>\n",
       "      <td>Property</td>\n",
       "      <td>Yellow</td>\n",
       "      <td>Yellow2</td>\n",
       "      <td>527</td>\n",
       "      <td>0.026349</td>\n",
       "    </tr>\n",
       "    <tr>\n",
       "      <th>28</th>\n",
       "      <td>True</td>\n",
       "      <td>Utility</td>\n",
       "      <td>Utility</td>\n",
       "      <td>Utility2</td>\n",
       "      <td>492</td>\n",
       "      <td>0.024599</td>\n",
       "    </tr>\n",
       "    <tr>\n",
       "      <th>29</th>\n",
       "      <td>True</td>\n",
       "      <td>Property</td>\n",
       "      <td>Yellow</td>\n",
       "      <td>Yellow3</td>\n",
       "      <td>486</td>\n",
       "      <td>0.024299</td>\n",
       "    </tr>\n",
       "    <tr>\n",
       "      <th>30</th>\n",
       "      <td>False</td>\n",
       "      <td>Go to jail</td>\n",
       "      <td>Go to jail</td>\n",
       "      <td>Go to jail</td>\n",
       "      <td>541</td>\n",
       "      <td>0.027049</td>\n",
       "    </tr>\n",
       "    <tr>\n",
       "      <th>31</th>\n",
       "      <td>True</td>\n",
       "      <td>Property</td>\n",
       "      <td>Green</td>\n",
       "      <td>Green1</td>\n",
       "      <td>499</td>\n",
       "      <td>0.024949</td>\n",
       "    </tr>\n",
       "    <tr>\n",
       "      <th>32</th>\n",
       "      <td>True</td>\n",
       "      <td>Property</td>\n",
       "      <td>Green</td>\n",
       "      <td>Green2</td>\n",
       "      <td>477</td>\n",
       "      <td>0.023849</td>\n",
       "    </tr>\n",
       "    <tr>\n",
       "      <th>33</th>\n",
       "      <td>False</td>\n",
       "      <td>Card</td>\n",
       "      <td>Community Chest</td>\n",
       "      <td>Community Chest</td>\n",
       "      <td>511</td>\n",
       "      <td>0.025549</td>\n",
       "    </tr>\n",
       "    <tr>\n",
       "      <th>34</th>\n",
       "      <td>True</td>\n",
       "      <td>Property</td>\n",
       "      <td>Green</td>\n",
       "      <td>Green3</td>\n",
       "      <td>549</td>\n",
       "      <td>0.027449</td>\n",
       "    </tr>\n",
       "    <tr>\n",
       "      <th>35</th>\n",
       "      <td>True</td>\n",
       "      <td>Train</td>\n",
       "      <td>Train</td>\n",
       "      <td>Train4</td>\n",
       "      <td>490</td>\n",
       "      <td>0.024499</td>\n",
       "    </tr>\n",
       "    <tr>\n",
       "      <th>36</th>\n",
       "      <td>False</td>\n",
       "      <td>Card</td>\n",
       "      <td>Chance</td>\n",
       "      <td>Chance</td>\n",
       "      <td>502</td>\n",
       "      <td>0.025099</td>\n",
       "    </tr>\n",
       "    <tr>\n",
       "      <th>37</th>\n",
       "      <td>True</td>\n",
       "      <td>Property</td>\n",
       "      <td>DarkBlue</td>\n",
       "      <td>DarkBlue1</td>\n",
       "      <td>493</td>\n",
       "      <td>0.024649</td>\n",
       "    </tr>\n",
       "    <tr>\n",
       "      <th>38</th>\n",
       "      <td>False</td>\n",
       "      <td>Tax</td>\n",
       "      <td>Tax</td>\n",
       "      <td>Tax</td>\n",
       "      <td>474</td>\n",
       "      <td>0.023699</td>\n",
       "    </tr>\n",
       "    <tr>\n",
       "      <th>39</th>\n",
       "      <td>True</td>\n",
       "      <td>Property</td>\n",
       "      <td>DarkBlue</td>\n",
       "      <td>DarkBlue2</td>\n",
       "      <td>465</td>\n",
       "      <td>0.023249</td>\n",
       "    </tr>\n",
       "  </tbody>\n",
       "</table>\n",
       "</div>"
      ],
      "text/plain": [
       "    purchasable          type         sequence             name  visits_count  \\\n",
       "0         False            Go               Go               Go           455   \n",
       "1          True      Property           Purple          Purple1           453   \n",
       "2         False          Card  Community Chest  Community Chest           495   \n",
       "3          True      Property           Purple          Purple2           480   \n",
       "4         False           Tax         City Tax         City tax           536   \n",
       "5          True         Train            Train           Train1           507   \n",
       "6          True      Property        LightBlue       LightBlue1           508   \n",
       "7         False          Card           Chance           Chance           470   \n",
       "8          True      Property        LightBlue       LightBlue2           471   \n",
       "9          True      Property        LightBlue       LightBlue3           456   \n",
       "10        False          Jail             Jail             Jail           499   \n",
       "11         True      Property             Pink            Pink1           481   \n",
       "12         True       Utility          Utility         Utility1           523   \n",
       "13         True      Property             Pink            Pink2           482   \n",
       "14         True      Property             Pink            Pink3           514   \n",
       "15         True         Train            Train           Train2           569   \n",
       "16         True      Property           Orange          Orange1           510   \n",
       "17        False          Card  Community Chest  Community Chest           588   \n",
       "18         True      Property           Orange          Orange2           536   \n",
       "19         True      Property           Orange          Orange3           497   \n",
       "20        False  Free Parking     Free Parking     Free Parking           542   \n",
       "21         True      Property              Red             Red1           531   \n",
       "22        False          Card           Chance           Chance           503   \n",
       "23         True      Property              Red             Red2           449   \n",
       "24         True      Property              Red             Red3           498   \n",
       "25         True         Train            Train           Train3           461   \n",
       "26         True      Property           Yellow          Yellow1           481   \n",
       "27         True      Property           Yellow          Yellow2           527   \n",
       "28         True       Utility          Utility         Utility2           492   \n",
       "29         True      Property           Yellow          Yellow3           486   \n",
       "30        False    Go to jail       Go to jail       Go to jail           541   \n",
       "31         True      Property            Green           Green1           499   \n",
       "32         True      Property            Green           Green2           477   \n",
       "33        False          Card  Community Chest  Community Chest           511   \n",
       "34         True      Property            Green           Green3           549   \n",
       "35         True         Train            Train           Train4           490   \n",
       "36        False          Card           Chance           Chance           502   \n",
       "37         True      Property         DarkBlue        DarkBlue1           493   \n",
       "38        False           Tax              Tax              Tax           474   \n",
       "39         True      Property         DarkBlue        DarkBlue2           465   \n",
       "\n",
       "    share_of_visits  \n",
       "0          0.022749  \n",
       "1          0.022649  \n",
       "2          0.024749  \n",
       "3          0.023999  \n",
       "4          0.026799  \n",
       "5          0.025349  \n",
       "6          0.025399  \n",
       "7          0.023499  \n",
       "8          0.023549  \n",
       "9          0.022799  \n",
       "10         0.024949  \n",
       "11         0.024049  \n",
       "12         0.026149  \n",
       "13         0.024099  \n",
       "14         0.025699  \n",
       "15         0.028449  \n",
       "16         0.025499  \n",
       "17         0.029399  \n",
       "18         0.026799  \n",
       "19         0.024849  \n",
       "20         0.027099  \n",
       "21         0.026549  \n",
       "22         0.025149  \n",
       "23         0.022449  \n",
       "24         0.024899  \n",
       "25         0.023049  \n",
       "26         0.024049  \n",
       "27         0.026349  \n",
       "28         0.024599  \n",
       "29         0.024299  \n",
       "30         0.027049  \n",
       "31         0.024949  \n",
       "32         0.023849  \n",
       "33         0.025549  \n",
       "34         0.027449  \n",
       "35         0.024499  \n",
       "36         0.025099  \n",
       "37         0.024649  \n",
       "38         0.023699  \n",
       "39         0.023249  "
      ]
     },
     "execution_count": 6,
     "metadata": {},
     "output_type": "execute_result"
    }
   ],
   "source": [
    "game.results"
   ]
  },
  {
   "cell_type": "code",
   "execution_count": 4,
   "metadata": {},
   "outputs": [],
   "source": [
    "class Player(object):\n",
    "    def __init__(self, name):\n",
    "        self.name = name\n",
    "        self.current_position = 0\n",
    "        self.squares_visited = []\n",
    "        self.move_order = 0\n",
    "        self.cash = 0\n",
    "\n",
    "    def move(self, steps):\n",
    "        self.current_position += steps\n",
    "        if self.current_position >= 40:\n",
    "            self.current_position -= 40\n",
    "\n",
    "    def roll_dice(self, n):\n",
    "        rolls = []\n",
    "        for i in range(n):\n",
    "            roll = np.random.randint(1,6)\n",
    "            rolls.append(roll)\n",
    "        return rolls\n",
    "\n",
    "    def draw_card(self, game, deck):\n",
    "        card = deck.draw(self, game)\n",
    "        card.play(self, game)"
   ]
  },
  {
   "cell_type": "code",
   "execution_count": 5,
   "metadata": {},
   "outputs": [],
   "source": [
    "player1 = Player('Daniella')\n",
    "player2 = Player('Uri')\n",
    "player3 = Player('Rani')\n",
    "player4 = Player('Opher')"
   ]
  },
  {
   "cell_type": "code",
   "execution_count": 6,
   "metadata": {},
   "outputs": [],
   "source": [
    "players = [player1, player2, player3, player4]"
   ]
  },
  {
   "cell_type": "code",
   "execution_count": 7,
   "metadata": {},
   "outputs": [
    {
     "ename": "NameError",
     "evalue": "name 'np' is not defined",
     "output_type": "error",
     "traceback": [
      "\u001b[0;31m---------------------------------------------------------------------------\u001b[0m",
      "\u001b[0;31mNameError\u001b[0m                                 Traceback (most recent call last)",
      "\u001b[0;32m<ipython-input-7-15209d39f394>\u001b[0m in \u001b[0;36m<module>\u001b[0;34m()\u001b[0m\n\u001b[1;32m      1\u001b[0m \u001b[0;32mfor\u001b[0m \u001b[0mplayer\u001b[0m \u001b[0;32min\u001b[0m \u001b[0mplayers\u001b[0m\u001b[0;34m:\u001b[0m\u001b[0;34m\u001b[0m\u001b[0m\n\u001b[0;32m----> 2\u001b[0;31m     \u001b[0mroll\u001b[0m \u001b[0;34m=\u001b[0m \u001b[0mplayer\u001b[0m\u001b[0;34m.\u001b[0m\u001b[0mroll_dice\u001b[0m\u001b[0;34m(\u001b[0m\u001b[0;36m1\u001b[0m\u001b[0;34m)\u001b[0m\u001b[0;34m\u001b[0m\u001b[0m\n\u001b[0m\u001b[1;32m      3\u001b[0m     \u001b[0mprint\u001b[0m\u001b[0;34m(\u001b[0m\u001b[0mroll\u001b[0m\u001b[0;34m)\u001b[0m\u001b[0;34m\u001b[0m\u001b[0m\n",
      "\u001b[0;32m<ipython-input-4-a9d364afb205>\u001b[0m in \u001b[0;36mroll_dice\u001b[0;34m(self, n)\u001b[0m\n\u001b[1;32m     15\u001b[0m         \u001b[0mrolls\u001b[0m \u001b[0;34m=\u001b[0m \u001b[0;34m[\u001b[0m\u001b[0;34m]\u001b[0m\u001b[0;34m\u001b[0m\u001b[0m\n\u001b[1;32m     16\u001b[0m         \u001b[0;32mfor\u001b[0m \u001b[0mi\u001b[0m \u001b[0;32min\u001b[0m \u001b[0mrange\u001b[0m\u001b[0;34m(\u001b[0m\u001b[0mn\u001b[0m\u001b[0;34m)\u001b[0m\u001b[0;34m:\u001b[0m\u001b[0;34m\u001b[0m\u001b[0m\n\u001b[0;32m---> 17\u001b[0;31m             \u001b[0mroll\u001b[0m \u001b[0;34m=\u001b[0m \u001b[0mnp\u001b[0m\u001b[0;34m.\u001b[0m\u001b[0mrandom\u001b[0m\u001b[0;34m.\u001b[0m\u001b[0mrandint\u001b[0m\u001b[0;34m(\u001b[0m\u001b[0;36m1\u001b[0m\u001b[0;34m,\u001b[0m\u001b[0;36m6\u001b[0m\u001b[0;34m)\u001b[0m\u001b[0;34m\u001b[0m\u001b[0m\n\u001b[0m\u001b[1;32m     18\u001b[0m             \u001b[0mrolls\u001b[0m\u001b[0;34m.\u001b[0m\u001b[0mappend\u001b[0m\u001b[0;34m(\u001b[0m\u001b[0mroll\u001b[0m\u001b[0;34m)\u001b[0m\u001b[0;34m\u001b[0m\u001b[0m\n\u001b[1;32m     19\u001b[0m         \u001b[0;32mreturn\u001b[0m \u001b[0mrolls\u001b[0m\u001b[0;34m\u001b[0m\u001b[0m\n",
      "\u001b[0;31mNameError\u001b[0m: name 'np' is not defined"
     ]
    }
   ],
   "source": [
    "for player in players:\n",
    "    roll = player.roll_dice(1)\n",
    "    print(roll)"
   ]
  },
  {
   "cell_type": "code",
   "execution_count": 8,
   "metadata": {},
   "outputs": [
    {
     "ename": "NameError",
     "evalue": "name 'np' is not defined",
     "output_type": "error",
     "traceback": [
      "\u001b[0;31m---------------------------------------------------------------------------\u001b[0m",
      "\u001b[0;31mNameError\u001b[0m                                 Traceback (most recent call last)",
      "\u001b[0;32m<ipython-input-8-8876dae52079>\u001b[0m in \u001b[0;36m<module>\u001b[0;34m()\u001b[0m\n\u001b[0;32m----> 1\u001b[0;31m \u001b[0mplayers\u001b[0m\u001b[0;34m.\u001b[0m\u001b[0msort\u001b[0m\u001b[0;34m(\u001b[0m\u001b[0mkey\u001b[0m\u001b[0;34m=\u001b[0m\u001b[0;32mlambda\u001b[0m \u001b[0mx\u001b[0m\u001b[0;34m:\u001b[0m \u001b[0mx\u001b[0m\u001b[0;34m.\u001b[0m\u001b[0mroll_dice\u001b[0m\u001b[0;34m(\u001b[0m\u001b[0;36m1\u001b[0m\u001b[0;34m)\u001b[0m\u001b[0;34m,\u001b[0m \u001b[0mreverse\u001b[0m\u001b[0;34m=\u001b[0m\u001b[0;32mTrue\u001b[0m\u001b[0;34m)\u001b[0m\u001b[0;34m\u001b[0m\u001b[0m\n\u001b[0m",
      "\u001b[0;32m<ipython-input-8-8876dae52079>\u001b[0m in \u001b[0;36m<lambda>\u001b[0;34m(x)\u001b[0m\n\u001b[0;32m----> 1\u001b[0;31m \u001b[0mplayers\u001b[0m\u001b[0;34m.\u001b[0m\u001b[0msort\u001b[0m\u001b[0;34m(\u001b[0m\u001b[0mkey\u001b[0m\u001b[0;34m=\u001b[0m\u001b[0;32mlambda\u001b[0m \u001b[0mx\u001b[0m\u001b[0;34m:\u001b[0m \u001b[0mx\u001b[0m\u001b[0;34m.\u001b[0m\u001b[0mroll_dice\u001b[0m\u001b[0;34m(\u001b[0m\u001b[0;36m1\u001b[0m\u001b[0;34m)\u001b[0m\u001b[0;34m,\u001b[0m \u001b[0mreverse\u001b[0m\u001b[0;34m=\u001b[0m\u001b[0;32mTrue\u001b[0m\u001b[0;34m)\u001b[0m\u001b[0;34m\u001b[0m\u001b[0m\n\u001b[0m",
      "\u001b[0;32m<ipython-input-4-a9d364afb205>\u001b[0m in \u001b[0;36mroll_dice\u001b[0;34m(self, n)\u001b[0m\n\u001b[1;32m     15\u001b[0m         \u001b[0mrolls\u001b[0m \u001b[0;34m=\u001b[0m \u001b[0;34m[\u001b[0m\u001b[0;34m]\u001b[0m\u001b[0;34m\u001b[0m\u001b[0m\n\u001b[1;32m     16\u001b[0m         \u001b[0;32mfor\u001b[0m \u001b[0mi\u001b[0m \u001b[0;32min\u001b[0m \u001b[0mrange\u001b[0m\u001b[0;34m(\u001b[0m\u001b[0mn\u001b[0m\u001b[0;34m)\u001b[0m\u001b[0;34m:\u001b[0m\u001b[0;34m\u001b[0m\u001b[0m\n\u001b[0;32m---> 17\u001b[0;31m             \u001b[0mroll\u001b[0m \u001b[0;34m=\u001b[0m \u001b[0mnp\u001b[0m\u001b[0;34m.\u001b[0m\u001b[0mrandom\u001b[0m\u001b[0;34m.\u001b[0m\u001b[0mrandint\u001b[0m\u001b[0;34m(\u001b[0m\u001b[0;36m1\u001b[0m\u001b[0;34m,\u001b[0m\u001b[0;36m6\u001b[0m\u001b[0;34m)\u001b[0m\u001b[0;34m\u001b[0m\u001b[0m\n\u001b[0m\u001b[1;32m     18\u001b[0m             \u001b[0mrolls\u001b[0m\u001b[0;34m.\u001b[0m\u001b[0mappend\u001b[0m\u001b[0;34m(\u001b[0m\u001b[0mroll\u001b[0m\u001b[0;34m)\u001b[0m\u001b[0;34m\u001b[0m\u001b[0m\n\u001b[1;32m     19\u001b[0m         \u001b[0;32mreturn\u001b[0m \u001b[0mrolls\u001b[0m\u001b[0;34m\u001b[0m\u001b[0m\n",
      "\u001b[0;31mNameError\u001b[0m: name 'np' is not defined"
     ]
    }
   ],
   "source": [
    "players.sort(key=lambda x: x.roll_dice(1), reverse=True)\n"
   ]
  },
  {
   "cell_type": "code",
   "execution_count": 9,
   "metadata": {},
   "outputs": [
    {
     "data": {
      "text/plain": [
       "[<__main__.Player at 0x7fa97043ca20>,\n",
       " <__main__.Player at 0x7fa97043ca90>,\n",
       " <__main__.Player at 0x7fa97043ca58>,\n",
       " <__main__.Player at 0x7fa97043cac8>]"
      ]
     },
     "execution_count": 9,
     "metadata": {},
     "output_type": "execute_result"
    }
   ],
   "source": [
    "players"
   ]
  },
  {
   "cell_type": "code",
   "execution_count": 10,
   "metadata": {},
   "outputs": [
    {
     "name": "stdout",
     "output_type": "stream",
     "text": [
      "Daniella\n",
      "Uri\n",
      "Rani\n",
      "Opher\n"
     ]
    }
   ],
   "source": [
    "for p in players:\n",
    "    print(p.name)"
   ]
  },
  {
   "cell_type": "code",
   "execution_count": 11,
   "metadata": {},
   "outputs": [
    {
     "data": {
      "text/plain": [
       "[<__main__.Player at 0x7fa97043ca20>,\n",
       " <__main__.Player at 0x7fa97043ca90>,\n",
       " <__main__.Player at 0x7fa97043ca58>,\n",
       " <__main__.Player at 0x7fa97043cac8>]"
      ]
     },
     "execution_count": 11,
     "metadata": {},
     "output_type": "execute_result"
    }
   ],
   "source": [
    "players"
   ]
  },
  {
   "cell_type": "code",
   "execution_count": 17,
   "metadata": {},
   "outputs": [
    {
     "name": "stdout",
     "output_type": "stream",
     "text": [
      "Daniella\n",
      "Uri\n",
      "Rani\n",
      "Opher\n",
      "Order of play: [None, None, None, None]\n"
     ]
    }
   ],
   "source": [
    "print(\"Order of play:\" , [print(p.name) for p in players])"
   ]
  },
  {
   "cell_type": "code",
   "execution_count": 13,
   "metadata": {},
   "outputs": [
    {
     "ename": "NameError",
     "evalue": "name 'players' is not defined",
     "output_type": "error",
     "traceback": [
      "\u001b[0;31m---------------------------------------------------------------------------\u001b[0m",
      "\u001b[0;31mNameError\u001b[0m                                 Traceback (most recent call last)",
      "\u001b[0;32m<ipython-input-13-209412d5524c>\u001b[0m in \u001b[0;36m<module>\u001b[0;34m()\u001b[0m\n\u001b[0;32m----> 1\u001b[0;31m \u001b[0mplayers\u001b[0m\u001b[0;34m\u001b[0m\u001b[0m\n\u001b[0m",
      "\u001b[0;31mNameError\u001b[0m: name 'players' is not defined"
     ]
    }
   ],
   "source": [
    "players"
   ]
  },
  {
   "cell_type": "code",
   "execution_count": 22,
   "metadata": {},
   "outputs": [],
   "source": [
    "players = [player1, player2, player3]"
   ]
  },
  {
   "cell_type": "code",
   "execution_count": 17,
   "metadata": {},
   "outputs": [],
   "source": [
    "players.index(player2)\n",
    "players.remove(player2)"
   ]
  },
  {
   "cell_type": "code",
   "execution_count": 21,
   "metadata": {},
   "outputs": [
    {
     "name": "stdout",
     "output_type": "stream",
     "text": [
      "Yoav\n",
      "Rani\n",
      "Opher\n"
     ]
    }
   ],
   "source": [
    "for p in players:\n",
    "    print(p.name)"
   ]
  },
  {
   "cell_type": "code",
   "execution_count": 20,
   "metadata": {},
   "outputs": [],
   "source": [
    "players.insert(1, player2)"
   ]
  },
  {
   "cell_type": "code",
   "execution_count": 23,
   "metadata": {},
   "outputs": [],
   "source": [
    "players.remove(player2)"
   ]
  },
  {
   "cell_type": "code",
   "execution_count": 24,
   "metadata": {},
   "outputs": [
    {
     "data": {
      "text/plain": [
       "[<game_setup.Player at 0x7faa10d22588>, <game_setup.Player at 0x7faa10d227f0>]"
      ]
     },
     "execution_count": 24,
     "metadata": {},
     "output_type": "execute_result"
    }
   ],
   "source": [
    "players"
   ]
  },
  {
   "cell_type": "code",
   "execution_count": null,
   "metadata": {},
   "outputs": [],
   "source": []
  }
 ],
 "metadata": {
  "kernelspec": {
   "display_name": "Python 3",
   "language": "python",
   "name": "python3"
  },
  "language_info": {
   "codemirror_mode": {
    "name": "ipython",
    "version": 3
   },
   "file_extension": ".py",
   "mimetype": "text/x-python",
   "name": "python",
   "nbconvert_exporter": "python",
   "pygments_lexer": "ipython3",
   "version": "3.6.5"
  }
 },
 "nbformat": 4,
 "nbformat_minor": 4
}
